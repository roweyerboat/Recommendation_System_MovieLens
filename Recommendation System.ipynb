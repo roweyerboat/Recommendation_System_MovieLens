{
 "cells": [
  {
   "cell_type": "markdown",
   "metadata": {},
   "source": [
    "## Recommendation System \n",
    "After going through EDA and trying different models, this notebook will be used to set up and run the recommendation system which utilizes the surprise library's SVD algorithm to filter results for users to recommend 5 movies based on similar users in the system.\n",
    "\n",
    "Student name: Amanda Rowe \n",
    "\n",
    "Student pace: self paced \n",
    "\n",
    "Instructor name: Jeff Herman \n",
    "\n",
    "Blog post URL:https://roweyerboat.github.io/the_helpful_library_of_surprise"
   ]
  },
  {
   "cell_type": "code",
   "execution_count": 1,
   "metadata": {},
   "outputs": [],
   "source": [
    "# Importing Libraries\n",
    "import pandas as pd\n",
    "import numpy as np\n",
    "import matplotlib.pyplot as plt\n",
    "import seaborn as sns\n",
    "%matplotlib inline\n",
    "from surprise import Reader, Dataset\n",
    "from surprise.model_selection import cross_validate, train_test_split\n",
    "from surprise.prediction_algorithms import SVD\n",
    "from surprise import accuracy"
   ]
  },
  {
   "cell_type": "code",
   "execution_count": 2,
   "metadata": {},
   "outputs": [],
   "source": [
    "# Importing Data\n",
    "ratings_df = pd.read_csv('ratings_limited_users.csv', usecols=['userId', 'movieId', 'rating'])\n",
    "movies_df = pd.read_csv('movies.csv')"
   ]
  },
  {
   "cell_type": "code",
   "execution_count": 3,
   "metadata": {},
   "outputs": [],
   "source": [
    "# Setting up the model\n",
    "# Initializing a reader and data class\n",
    "reader = Reader()\n",
    "data = Dataset.load_from_df(ratings_df, reader)\n",
    "\n",
    "# Splitting the data into train and test sets\n",
    "trainset, testset = train_test_split(data, test_size=.25)\n",
    "\n",
    "# Using the tuned parameters for the SVD model\n",
    "svd = SVD(n_factors=100,\n",
    "               n_epochs=30,\n",
    "               lr_all=0.01, \n",
    "               reg_all=0.1)\n",
    "svd.fit(trainset)\n",
    "svd_preds = svd.test(testset)"
   ]
  },
  {
   "cell_type": "code",
   "execution_count": 4,
   "metadata": {},
   "outputs": [
    {
     "name": "stdout",
     "output_type": "stream",
     "text": [
      "RMSE: 0.8504\n"
     ]
    },
    {
     "data": {
      "text/plain": [
       "0.8503526381452163"
      ]
     },
     "execution_count": 4,
     "metadata": {},
     "output_type": "execute_result"
    }
   ],
   "source": [
    "# Checking the accuracy of the model\n",
    "accuracy.rmse(svd_preds)"
   ]
  },
  {
   "cell_type": "code",
   "execution_count": 5,
   "metadata": {},
   "outputs": [
    {
     "data": {
      "text/html": [
       "<div>\n",
       "<style scoped>\n",
       "    .dataframe tbody tr th:only-of-type {\n",
       "        vertical-align: middle;\n",
       "    }\n",
       "\n",
       "    .dataframe tbody tr th {\n",
       "        vertical-align: top;\n",
       "    }\n",
       "\n",
       "    .dataframe thead th {\n",
       "        text-align: right;\n",
       "    }\n",
       "</style>\n",
       "<table border=\"1\" class=\"dataframe\">\n",
       "  <thead>\n",
       "    <tr style=\"text-align: right;\">\n",
       "      <th></th>\n",
       "      <th>Unnamed: 0</th>\n",
       "      <th>title</th>\n",
       "      <th>rating</th>\n",
       "      <th>num of ratings</th>\n",
       "      <th>movieId</th>\n",
       "      <th>genres</th>\n",
       "    </tr>\n",
       "  </thead>\n",
       "  <tbody>\n",
       "    <tr>\n",
       "      <td>0</td>\n",
       "      <td>18</td>\n",
       "      <td>10 Things I Hate About You (1999)</td>\n",
       "      <td>3.527778</td>\n",
       "      <td>54</td>\n",
       "      <td>2572</td>\n",
       "      <td>Comedy|Romance</td>\n",
       "    </tr>\n",
       "    <tr>\n",
       "      <td>1</td>\n",
       "      <td>34</td>\n",
       "      <td>12 Angry Men (1957)</td>\n",
       "      <td>4.149123</td>\n",
       "      <td>57</td>\n",
       "      <td>1203</td>\n",
       "      <td>Drama</td>\n",
       "    </tr>\n",
       "    <tr>\n",
       "      <td>2</td>\n",
       "      <td>74</td>\n",
       "      <td>2001: A Space Odyssey (1968)</td>\n",
       "      <td>3.894495</td>\n",
       "      <td>109</td>\n",
       "      <td>924</td>\n",
       "      <td>Adventure|Drama|Sci-Fi</td>\n",
       "    </tr>\n",
       "    <tr>\n",
       "      <td>3</td>\n",
       "      <td>89</td>\n",
       "      <td>28 Days Later (2002)</td>\n",
       "      <td>3.974138</td>\n",
       "      <td>58</td>\n",
       "      <td>6502</td>\n",
       "      <td>Action|Horror|Sci-Fi</td>\n",
       "    </tr>\n",
       "    <tr>\n",
       "      <td>4</td>\n",
       "      <td>104</td>\n",
       "      <td>300 (2007)</td>\n",
       "      <td>3.681250</td>\n",
       "      <td>80</td>\n",
       "      <td>51662</td>\n",
       "      <td>Action|Fantasy|War|IMAX</td>\n",
       "    </tr>\n",
       "  </tbody>\n",
       "</table>\n",
       "</div>"
      ],
      "text/plain": [
       "   Unnamed: 0                              title    rating  num of ratings  \\\n",
       "0          18  10 Things I Hate About You (1999)  3.527778              54   \n",
       "1          34                12 Angry Men (1957)  4.149123              57   \n",
       "2          74       2001: A Space Odyssey (1968)  3.894495             109   \n",
       "3          89               28 Days Later (2002)  3.974138              58   \n",
       "4         104                         300 (2007)  3.681250              80   \n",
       "\n",
       "   movieId                   genres  \n",
       "0     2572           Comedy|Romance  \n",
       "1     1203                    Drama  \n",
       "2      924   Adventure|Drama|Sci-Fi  \n",
       "3     6502     Action|Horror|Sci-Fi  \n",
       "4    51662  Action|Fantasy|War|IMAX  "
      ]
     },
     "execution_count": 5,
     "metadata": {},
     "output_type": "execute_result"
    }
   ],
   "source": [
    "# Importing the popular movies dataframe to be used for users to rate\n",
    "popular_movies_df = pd.read_csv('popular_movies.csv')\n",
    "popular_movies_df.head()"
   ]
  },
  {
   "cell_type": "code",
   "execution_count": 8,
   "metadata": {},
   "outputs": [],
   "source": [
    "# Functions needed\n",
    "# Function to get new users preferences on any movie or a particular genre\n",
    "def movie_rater(movie_df, num=5, genre=None):\n",
    "    \"\"\" This function is to handle a cold start with a new user.  It takes in a number of ratings\n",
    "        from a new user and gives the output of 5 movie recommendations.\n",
    "        \n",
    "        Args:\n",
    "            movie_df(dataframe): the dataframe of movies that you will use to recommend movies\n",
    "            num(integer): the number of ratings you want the user to input before giving a recommendation. The default value is 5.\n",
    "            genre(string): The genre of movies that you wish to pull from for your user to rate.  The default is None.\n",
    "        \n",
    "        Returns:\n",
    "            The output is a list of 5 movies with their titles and genres receommended for the user based on their initial ratings given.  \n",
    "            A collaborative filter is used to add their ratings to the inital dataframe to then find this output.\"\"\"\n",
    "    userID = 1000\n",
    "    rating_list = []\n",
    "    while num > 0:\n",
    "        if genre:\n",
    "            movie = popular_movies_df[popular_movies_df['genres'].str.contains(genre)].sample(1)\n",
    "        else:\n",
    "            movie = popular_movies_df.sample(1)\n",
    "        print(movie['title'])\n",
    "        try: \n",
    "            rating = input('How do you rate this movie on a scale of (low)1-5(high). Press n if you have not seen this movie: \\n')\n",
    "            if rating == 'n':\n",
    "                continue\n",
    "            else:\n",
    "                rating_one_movie = {'userId': userID, 'movieId': movie['movieId'].values[0], 'rating': rating}\n",
    "                rating_list.append(rating_one_movie)\n",
    "                num -=1\n",
    "        except:\n",
    "            continue\n",
    "    new_ratings_df = ratings_df.append(rating_list, ignore_index=True)\n",
    "    new_data = Dataset.load_from_df(new_ratings_df, reader)\n",
    "    svd_ =  SVD(n_factors=100,\n",
    "               n_epochs=30,\n",
    "               lr_all=0.01, \n",
    "               reg_all=0.1)\n",
    "    svd_.fit(new_data.build_full_trainset())\n",
    "    list_of_movies = []\n",
    "    for m_id in ratings_df['movieId'].unique():\n",
    "        list_of_movies.append( (m_id, svd_.predict(1000, m_id)[3]))\n",
    "    ranked_movies = sorted(list_of_movies, key=lambda x: x[1], reverse=True)\n",
    "    n=5\n",
    "    for idx, rec in enumerate(ranked_movies):\n",
    "        title = movie_df.loc[movie_df['movieId'] == int(rec[0])]['title']\n",
    "        print('------------------------------------------------')\n",
    "        print('Recommendation # ', idx+1, ': ', title, '\\n')\n",
    "        n-=1\n",
    "        if n==0:\n",
    "            break\n",
    "    \n",
    "    return \n"
   ]
  },
  {
   "cell_type": "code",
   "execution_count": 7,
   "metadata": {},
   "outputs": [
    {
     "name": "stdout",
     "output_type": "stream",
     "text": [
      "276    Mr. Holland's Opus (1995)\n",
      "Name: title, dtype: object\n",
      "How do you rate this movie on a scale of (low)1-5(high). Press n if you have not seen this movie: \n",
      "n\n",
      "69    Braveheart (1995)\n",
      "Name: title, dtype: object\n",
      "How do you rate this movie on a scale of (low)1-5(high). Press n if you have not seen this movie: \n",
      "4\n",
      "114    Dark Knight, The (2008)\n",
      "Name: title, dtype: object\n",
      "How do you rate this movie on a scale of (low)1-5(high). Press n if you have not seen this movie: \n",
      "4\n",
      "251    Love Actually (2003)\n",
      "Name: title, dtype: object\n",
      "How do you rate this movie on a scale of (low)1-5(high). Press n if you have not seen this movie: \n",
      "2\n",
      "414    Vertigo (1958)\n",
      "Name: title, dtype: object\n",
      "How do you rate this movie on a scale of (low)1-5(high). Press n if you have not seen this movie: \n",
      "n\n",
      "405    Truman Show, The (1998)\n",
      "Name: title, dtype: object\n",
      "How do you rate this movie on a scale of (low)1-5(high). Press n if you have not seen this movie: \n",
      "4\n",
      "6    A.I. Artificial Intelligence (2001)\n",
      "Name: title, dtype: object\n",
      "How do you rate this movie on a scale of (low)1-5(high). Press n if you have not seen this movie: \n",
      "n\n",
      "341    Shakespeare in Love (1998)\n",
      "Name: title, dtype: object\n",
      "How do you rate this movie on a scale of (low)1-5(high). Press n if you have not seen this movie: \n",
      "1\n",
      "------------------------------------------------\n",
      "Recommendation #  1 :  8301    Day of the Doctor, The (2013)\n",
      "Name: title, dtype: object \n",
      "\n",
      "------------------------------------------------\n",
      "Recommendation #  2 :  9497    Band of Brothers (2001)\n",
      "Name: title, dtype: object \n",
      "\n",
      "------------------------------------------------\n",
      "Recommendation #  3 :  1762    Celebration, The (Festen) (1998)\n",
      "Name: title, dtype: object \n",
      "\n",
      "------------------------------------------------\n",
      "Recommendation #  4 :  841    Streetcar Named Desire, A (1951)\n",
      "Name: title, dtype: object \n",
      "\n",
      "------------------------------------------------\n",
      "Recommendation #  5 :  5202    Jetée, La (1962)\n",
      "Name: title, dtype: object \n",
      "\n"
     ]
    }
   ],
   "source": [
    "# Calling the function to get user input and result in 5 recommendations\n",
    "movie_rater(movies_df, 5, genre = 'Drama')"
   ]
  },
  {
   "cell_type": "code",
   "execution_count": null,
   "metadata": {},
   "outputs": [],
   "source": [
    "movie_rater(movies_df,5)"
   ]
  },
  {
   "cell_type": "code",
   "execution_count": null,
   "metadata": {},
   "outputs": [],
   "source": [
    "#movie_rater(movies_df, genre='Comedy')"
   ]
  },
  {
   "cell_type": "code",
   "execution_count": null,
   "metadata": {},
   "outputs": [],
   "source": []
  }
 ],
 "metadata": {
  "kernelspec": {
   "display_name": "Python [conda env:learn-env] *",
   "language": "python",
   "name": "conda-env-learn-env-py"
  },
  "language_info": {
   "codemirror_mode": {
    "name": "ipython",
    "version": 3
   },
   "file_extension": ".py",
   "mimetype": "text/x-python",
   "name": "python",
   "nbconvert_exporter": "python",
   "pygments_lexer": "ipython3",
   "version": "3.6.9"
  }
 },
 "nbformat": 4,
 "nbformat_minor": 2
}
